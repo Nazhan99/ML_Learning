{
  "nbformat": 4,
  "nbformat_minor": 0,
  "metadata": {
    "colab": {
      "name": "First ML.ipynb",
      "provenance": [],
      "collapsed_sections": [],
      "toc_visible": true,
      "authorship_tag": "ABX9TyPLv7QkrhPt6mXinM1b96ay",
      "include_colab_link": true
    },
    "kernelspec": {
      "name": "python3",
      "display_name": "Python 3"
    },
    "language_info": {
      "name": "python"
    }
  },
  "cells": [
    {
      "cell_type": "markdown",
      "metadata": {
        "id": "view-in-github",
        "colab_type": "text"
      },
      "source": [
        "<a href=\"https://colab.research.google.com/github/Nazhan99/ML_Learning/blob/main/First_ML.ipynb\" target=\"_parent\"><img src=\"https://colab.research.google.com/assets/colab-badge.svg\" alt=\"Open In Colab\"/></a>"
      ]
    },
    {
      "cell_type": "markdown",
      "metadata": {
        "id": "9qjKDXe002zG"
      },
      "source": [
        "#Module 2"
      ]
    },
    {
      "cell_type": "code",
      "metadata": {
        "colab": {
          "base_uri": "https://localhost:8080/"
        },
        "id": "HVAVyPed0yUj",
        "outputId": "fb01079e-2b4d-4cf8-ed4c-f309fbe14db6"
      },
      "source": [
        "print(\"My first ML\")"
      ],
      "execution_count": 1,
      "outputs": [
        {
          "output_type": "stream",
          "text": [
            "My first ML\n"
          ],
          "name": "stdout"
        }
      ]
    },
    {
      "cell_type": "markdown",
      "metadata": {
        "id": "Jaf8xkb74nBf"
      },
      "source": [
        "#Module 3"
      ]
    },
    {
      "cell_type": "code",
      "metadata": {
        "id": "uspnCBIM5ZRV"
      },
      "source": [
        "import pandas"
      ],
      "execution_count": 3,
      "outputs": []
    },
    {
      "cell_type": "code",
      "metadata": {
        "id": "qHDGXPtK3p0H"
      },
      "source": [
        "filename='forestfires.csv'\n",
        "names=['X', 'Y', 'month', 'day', 'FFMC', 'DMC',\n",
        "                  'DC', 'ISI', 'temp', 'RH', 'wind', 'rain', 'area' ]"
      ],
      "execution_count": 4,
      "outputs": []
    },
    {
      "cell_type": "code",
      "metadata": {
        "colab": {
          "base_uri": "https://localhost:8080/"
        },
        "id": "HFLjrWZa6HqT",
        "outputId": "01314157-fc02-460e-a63e-9a01a2b5eb6c"
      },
      "source": [
        "df=pandas.read_csv(filename,names=names)\n",
        "print(pandas.isnull(df).sum())"
      ],
      "execution_count": 5,
      "outputs": [
        {
          "output_type": "stream",
          "text": [
            "X        0\n",
            "Y        0\n",
            "month    0\n",
            "day      0\n",
            "FFMC     0\n",
            "DMC      0\n",
            "DC       0\n",
            "ISI      0\n",
            "temp     0\n",
            "RH       0\n",
            "wind     0\n",
            "rain     0\n",
            "area     0\n",
            "dtype: int64\n"
          ],
          "name": "stdout"
        }
      ]
    }
  ]
}